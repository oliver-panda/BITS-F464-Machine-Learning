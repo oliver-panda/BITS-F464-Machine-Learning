{
  "cells": [
    {
      "cell_type": "code",
      "execution_count": 1,
      "metadata": {
        "id": "q-d0ESXDUUiU"
      },
      "outputs": [],
      "source": [
        "import pandas as pd\n",
        "import numpy as np\n",
        "import matplotlib.pyplot as plt"
      ]
    },
    {
      "cell_type": "code",
      "execution_count": 3,
      "metadata": {
        "colab": {
          "base_uri": "https://localhost:8080/"
        },
        "id": "ra5FCaoLUoQX",
        "outputId": "8f02ad2a-6985-440e-b9f8-8480d3504bda"
      },
      "outputs": [
        {
          "data": {
            "text/plain": [
              "<bound method NDFrame.head of            id diagnosis  radius_mean  texture_mean  perimeter_mean  area_mean  \\\n",
              "0      842302         M        17.99         10.38          122.80     1001.0   \n",
              "1      842517         M        20.57         17.77          132.90     1326.0   \n",
              "2    84300903         M        19.69         21.25          130.00     1203.0   \n",
              "3    84348301         M        11.42         20.38           77.58      386.1   \n",
              "4    84358402         M        20.29         14.34          135.10     1297.0   \n",
              "..        ...       ...          ...           ...             ...        ...   \n",
              "564    926424         M        21.56         22.39          142.00     1479.0   \n",
              "565    926682         M        20.13         28.25          131.20     1261.0   \n",
              "566    926954         M        16.60         28.08          108.30      858.1   \n",
              "567    927241         M        20.60         29.33          140.10     1265.0   \n",
              "568     92751         B         7.76         24.54           47.92      181.0   \n",
              "\n",
              "     smoothness_mean  compactness_mean  concavity_mean  concave points_mean  \\\n",
              "0            0.11840           0.27760         0.30010              0.14710   \n",
              "1            0.08474           0.07864         0.08690              0.07017   \n",
              "2            0.10960           0.15990         0.19740              0.12790   \n",
              "3            0.14250           0.28390         0.24140              0.10520   \n",
              "4            0.10030           0.13280         0.19800              0.10430   \n",
              "..               ...               ...             ...                  ...   \n",
              "564          0.11100           0.11590         0.24390              0.13890   \n",
              "565          0.09780           0.10340         0.14400              0.09791   \n",
              "566          0.08455           0.10230         0.09251              0.05302   \n",
              "567          0.11780           0.27700         0.35140              0.15200   \n",
              "568          0.05263           0.04362         0.00000              0.00000   \n",
              "\n",
              "     ...  radius_worst  texture_worst  perimeter_worst  area_worst  \\\n",
              "0    ...        25.380          17.33           184.60      2019.0   \n",
              "1    ...        24.990          23.41           158.80      1956.0   \n",
              "2    ...        23.570          25.53           152.50      1709.0   \n",
              "3    ...        14.910          26.50            98.87       567.7   \n",
              "4    ...        22.540          16.67           152.20      1575.0   \n",
              "..   ...           ...            ...              ...         ...   \n",
              "564  ...        25.450          26.40           166.10      2027.0   \n",
              "565  ...        23.690          38.25           155.00      1731.0   \n",
              "566  ...        18.980          34.12           126.70      1124.0   \n",
              "567  ...        25.740          39.42           184.60      1821.0   \n",
              "568  ...         9.456          30.37            59.16       268.6   \n",
              "\n",
              "     smoothness_worst  compactness_worst  concavity_worst  \\\n",
              "0             0.16220            0.66560           0.7119   \n",
              "1             0.12380            0.18660           0.2416   \n",
              "2             0.14440            0.42450           0.4504   \n",
              "3             0.20980            0.86630           0.6869   \n",
              "4             0.13740            0.20500           0.4000   \n",
              "..                ...                ...              ...   \n",
              "564           0.14100            0.21130           0.4107   \n",
              "565           0.11660            0.19220           0.3215   \n",
              "566           0.11390            0.30940           0.3403   \n",
              "567           0.16500            0.86810           0.9387   \n",
              "568           0.08996            0.06444           0.0000   \n",
              "\n",
              "     concave points_worst  symmetry_worst  fractal_dimension_worst  \n",
              "0                  0.2654          0.4601                  0.11890  \n",
              "1                  0.1860          0.2750                  0.08902  \n",
              "2                  0.2430          0.3613                  0.08758  \n",
              "3                  0.2575          0.6638                  0.17300  \n",
              "4                  0.1625          0.2364                  0.07678  \n",
              "..                    ...             ...                      ...  \n",
              "564                0.2216          0.2060                  0.07115  \n",
              "565                0.1628          0.2572                  0.06637  \n",
              "566                0.1418          0.2218                  0.07820  \n",
              "567                0.2650          0.4087                  0.12400  \n",
              "568                0.0000          0.2871                  0.07039  \n",
              "\n",
              "[569 rows x 32 columns]>"
            ]
          },
          "execution_count": 3,
          "metadata": {},
          "output_type": "execute_result"
        }
      ],
      "source": [
        "df=pd.read_csv('ML-Om1.csv')\n",
        "# print(df.to_string())\n",
        "df.head"
      ]
    },
    {
      "cell_type": "markdown",
      "metadata": {
        "id": "nYLwBYEmXRCm"
      },
      "source": [
        "**PM1**\n",
        "\n"
      ]
    },
    {
      "cell_type": "code",
      "execution_count": 4,
      "metadata": {
        "colab": {
          "base_uri": "https://localhost:8080/"
        },
        "id": "2e7XI54MWLlO",
        "outputId": "8ece1b23-4d0a-4dc2-b2d1-a0262f17a4ed"
      },
      "outputs": [
        {
          "name": "stdout",
          "output_type": "stream",
          "text": [
            "(569, 32) (563, 32)\n"
          ]
        }
      ],
      "source": [
        "dfPM1=df.dropna()\n",
        "print(df.shape, dfPM1.shape)"
      ]
    },
    {
      "cell_type": "code",
      "execution_count": 5,
      "metadata": {
        "id": "lV17qQedQFg3"
      },
      "outputs": [],
      "source": [
        "data=dfPM1.values.tolist()\n",
        "data=np.array(data)\n",
        "# print(data)\n",
        "X=data[:,2:]\n",
        "Y=data[:,1:2]\n",
        "# print(X)\n",
        "for i in Y:\n",
        "  if i[0]=='M': # Malignant=1; Benign = 0\n",
        "    i[0]=1\n",
        "  else:\n",
        "    i[0]=0\n",
        "# print(Y)"
      ]
    },
    {
      "cell_type": "code",
      "execution_count": 6,
      "metadata": {
        "colab": {
          "base_uri": "https://localhost:8080/"
        },
        "id": "ocCMMtnNWTSd",
        "outputId": "b5362f64-2328-43a7-ea2f-917a3fcb5269"
      },
      "outputs": [
        {
          "name": "stdout",
          "output_type": "stream",
          "text": [
            "(563, 30) (563, 1)\n",
            "float64 float64\n"
          ]
        }
      ],
      "source": [
        "X = X.astype('float64')\n",
        "Y = Y.astype('float64')\n",
        "print(X.shape, Y.shape)\n",
        "print(X.dtype,Y.dtype)"
      ]
    },
    {
      "cell_type": "code",
      "execution_count": 7,
      "metadata": {
        "colab": {
          "base_uri": "https://localhost:8080/"
        },
        "id": "HIIKPU8sXzCH",
        "outputId": "642fc7bd-9644-4713-d692-8dc510c1cdaf"
      },
      "outputs": [
        {
          "name": "stdout",
          "output_type": "stream",
          "text": [
            "(378, 30) (185, 30) (378, 1) (185, 1)\n"
          ]
        }
      ],
      "source": [
        "split_ratio=0.67\n",
        "split_rows=int(np.floor(0.67*X.shape[0]))\n",
        "X_train=X[:split_rows+1]\n",
        "X_test=X[split_rows+1:]\n",
        "Y_train=Y[:split_rows+1]\n",
        "Y_test=Y[split_rows+1:]\n",
        "print(X_train.shape,X_test.shape,Y_train.shape,Y_test.shape)"
      ]
    },
    {
      "cell_type": "code",
      "execution_count": 8,
      "metadata": {
        "id": "8-5uQ1O1iQiK"
      },
      "outputs": [],
      "source": [
        "class Perceptron():\n",
        "  \n",
        "  def __init__(self):\n",
        "    pass\n",
        "\n",
        "  def train_model(self, X, Y, n, iters): # n = learning rate\n",
        "    no_cols = X.shape[1]\n",
        "    self.w = np.zeros((no_cols,1))\n",
        "    macc=0\n",
        "    for _ in range(iters):\n",
        "      # a = np.dot(X, self.w)\n",
        "      # y_predicted = self.activation(a)\n",
        "      for i in range(X.shape[0]):\n",
        "\n",
        "        k=X[i].reshape(1,30)\n",
        "        yp=self.predict(k)\n",
        "        y_predicted = self.predict(X)\n",
        "\n",
        "        # dw=n*np.dot(X.T,(y-y_predicted))\n",
        "        emac=macc\n",
        "        macc= max(macc,100-np.mean(np.abs(Y-y_predicted))*100)\n",
        "        if macc==100-np.mean(np.abs(Y-y_predicted))*100 and emac!=macc:\n",
        "          print(_,macc)\n",
        "        if macc==100:\n",
        "          return self.w\n",
        "        self.w += (n*np.dot(k.T,(Y[i]-yp)))\n",
        "    \n",
        "    return self.w\n",
        "\n",
        "  def activation(self, a):\n",
        "    predicted = np.array([1 if x>=0 else 0 for x in a])[:, np.newaxis]\n",
        "    return predicted\n",
        "\n",
        "  def predict(self, X):\n",
        "    a = np.dot(X, self.w)\n",
        "    y_p = self.activation(a)\n",
        "    return y_p\n",
        "\n"
      ]
    },
    {
      "cell_type": "code",
      "execution_count": 9,
      "metadata": {
        "colab": {
          "base_uri": "https://localhost:8080/"
        },
        "id": "nWIIgqDlt79r",
        "outputId": "90abde8f-8ed1-4ef0-a065-e85b7706551a"
      },
      "outputs": [
        {
          "name": "stdout",
          "output_type": "stream",
          "text": [
            "0 44.44444444444444\n",
            "0 55.55555555555556\n",
            "0 68.25396825396825\n",
            "0 91.26984126984127\n",
            "1 91.53439153439153\n",
            "6 91.7989417989418\n",
            "10 92.06349206349206\n",
            "23 92.32804232804233\n",
            "90 92.5925925925926\n",
            "387 92.85714285714286\n",
            "400 93.12169312169313\n",
            "for iterations = 1000\n",
            "training accuracy: 92.5925925925926%\n",
            "test accuracy: 93.51351351351352%\n",
            " \n"
          ]
        }
      ],
      "source": [
        "Perceptron_Model = Perceptron()\n",
        "\n",
        "Iteration = [1000]\n",
        "LR = [0.125, 0.25, 0.45, 0.75, 0.8, 0.9, 0.95, 0.99, 1]\n",
        "L=[1]\n",
        "\n",
        "for iters in Iteration:\n",
        "  w_trained = Perceptron_Model.train_model(X_train, Y_train, 0.75, iters)\n",
        "  y_predict_train = Perceptron_Model.predict(X_train)\n",
        "  y_predict_test = Perceptron_Model.predict(X_test)\n",
        "  print(f\"for iterations = {iters}\")\n",
        "  print(f\"training accuracy: {100 - np.mean(np.abs(y_predict_train - Y_train)) * 100}%\")\n",
        "  print(f\"test accuracy: {100 - np.mean(np.abs(y_predict_test - Y_test)) * 100}%\")\n",
        "  print(\" \")"
      ]
    },
    {
      "cell_type": "code",
      "execution_count": 17,
      "metadata": {
        "colab": {
          "base_uri": "https://localhost:8080/"
        },
        "id": "1-FWNC6QcvQC",
        "outputId": "078a75d5-8a1e-4409-fbe5-2adb67b68189"
      },
      "outputs": [
        {
          "name": "stdout",
          "output_type": "stream",
          "text": [
            "Confusion Matrix:\n",
            "[[ 38   7]\n",
            " [  5 135]]\n",
            " \n",
            "For PM1:\n",
            " \n",
            "Accuracy: 0.9351351351351351\n",
            "Precision: 0.8444444444444444\n",
            "Recall: 0.8837209302325582\n"
          ]
        }
      ],
      "source": [
        "TP=0\n",
        "FP=0\n",
        "TN=0\n",
        "FN=0\n",
        "\n",
        "for i in range(len(y_predict_test)):\n",
        "  if y_predict_test[i]==1 and Y_test[i]==1:\n",
        "    TP+=1\n",
        "  elif y_predict_test[i]==1 and Y_test[i]==0:\n",
        "    FP+=1\n",
        "  elif y_predict_test[i]==0 and Y_test[i]==1:\n",
        "    FN+=1\n",
        "  elif y_predict_test[i]==0 and Y_test[i]==0:\n",
        "    TN+=1\n",
        "print(\"Confusion Matrix:\")\n",
        "print(np.array([[TP,FP],[FN,TN]]))\n",
        "print(\" \")\n",
        "print(\"For PM1:\")\n",
        "print(\" \")\n",
        "print(\"Accuracy:\", (TP + TN)/(TP + TN + FP + FN))\n",
        "print(\"Precision:\", TP/(TP + FP))\n",
        "print(\"Recall:\", TP/(TP + FN))"
      ]
    },
    {
      "cell_type": "markdown",
      "metadata": {
        "id": "xQ-PZzTOqlE7"
      },
      "source": [
        "**PM2**"
      ]
    },
    {
      "cell_type": "code",
      "execution_count": 18,
      "metadata": {
        "colab": {
          "base_uri": "https://localhost:8080/"
        },
        "id": "RreqV-hiqnzn",
        "outputId": "806d23e1-ccbb-407c-ba8e-22cf395f3de7"
      },
      "outputs": [
        {
          "name": "stdout",
          "output_type": "stream",
          "text": [
            "(569, 32) (563, 32)\n",
            "(563, 32)\n",
            "(563, 33)\n",
            "(563, 30) (563, 1)\n",
            "float64 float64\n",
            "(378, 30) (185, 30) (378, 1) (185, 1)\n"
          ]
        }
      ],
      "source": [
        "dfPM2=df.dropna()\n",
        "print(df.shape, dfPM2.shape)\n",
        "print(dfPM2.shape)\n",
        "dfPM2=dfPM2.sample(frac=1, random_state=50).reset_index()\n",
        "print(dfPM2.shape)\n",
        "\n",
        "\n",
        "\n",
        "data=dfPM2.values.tolist()\n",
        "data=np.array(data)\n",
        "X=data[:,3:]\n",
        "Y=data[:,2:3]\n",
        "for i in Y:\n",
        "  if i[0]=='M': # Malignant=1; Benign = 0\n",
        "    i[0]=1\n",
        "  else:\n",
        "    i[0]=0\n",
        "\n",
        "X = X.astype('float64')\n",
        "Y = Y.astype('float64')\n",
        "print(X.shape, Y.shape)\n",
        "print(X.dtype,Y.dtype)\n",
        "\n",
        "split_ratio=0.67\n",
        "split_rows=int(np.floor(0.67*X.shape[0]))\n",
        "X_train=X[:split_rows+1]\n",
        "X_test=X[split_rows+1:]\n",
        "Y_train=Y[:split_rows+1]\n",
        "Y_test=Y[split_rows+1:]\n",
        "print(X_train.shape,X_test.shape,Y_train.shape,Y_test.shape)"
      ]
    },
    {
      "cell_type": "code",
      "execution_count": 19,
      "metadata": {
        "colab": {
          "base_uri": "https://localhost:8080/"
        },
        "id": "ZFE5zGTtvSh4",
        "outputId": "3e98d9e8-ec55-4626-b86a-61c55da2c9cf"
      },
      "outputs": [
        {
          "data": {
            "text/plain": [
              "<bound method NDFrame.head of      index         id diagnosis  radius_mean  texture_mean  perimeter_mean  \\\n",
              "0      216    8811523         B       11.890         18.35           77.32   \n",
              "1      110     864033         B        9.777         16.99           62.50   \n",
              "2      284    8912284         B       12.890         15.70           84.08   \n",
              "3      203      87880         M       13.810         23.75           91.56   \n",
              "4      461  911296202         M       27.420         26.27          186.90   \n",
              "..     ...        ...       ...          ...           ...             ...   \n",
              "558     70     859575         M       18.940         21.31          123.60   \n",
              "559    132   86730502         M       16.160         21.54          106.20   \n",
              "560    289   89143601         B       11.370         18.89           72.17   \n",
              "561    109     864018         B       11.340         21.26           72.48   \n",
              "562    480     912193         B       12.160         18.03           78.29   \n",
              "\n",
              "     area_mean  smoothness_mean  compactness_mean  concavity_mean  ...  \\\n",
              "0        432.2          0.09363           0.11540         0.06636  ...   \n",
              "1        290.2          0.10370           0.08404         0.04334  ...   \n",
              "2        516.6          0.07818           0.09580         0.11150  ...   \n",
              "3        597.8          0.13230           0.17680         0.15580  ...   \n",
              "4       2501.0          0.10840           0.19880         0.36350  ...   \n",
              "..         ...              ...               ...             ...  ...   \n",
              "558     1130.0          0.09009           0.10290         0.10800  ...   \n",
              "559      809.8          0.10080           0.12840         0.10430  ...   \n",
              "560      396.0          0.08713           0.05008         0.02399  ...   \n",
              "561      396.5          0.08759           0.06575         0.05133  ...   \n",
              "562      455.3          0.09087           0.07838         0.02916  ...   \n",
              "\n",
              "     radius_worst  texture_worst  perimeter_worst  area_worst  \\\n",
              "0           13.25          27.10            86.20       531.2   \n",
              "1           11.05          21.47            71.68       367.0   \n",
              "2           13.90          19.69            92.12       595.6   \n",
              "3           19.20          41.85           128.50      1153.0   \n",
              "4           36.04          31.37           251.20      4254.0   \n",
              "..            ...            ...              ...         ...   \n",
              "558         24.86          26.58           165.90      1866.0   \n",
              "559         19.47          31.68           129.70      1175.0   \n",
              "560         12.36          26.14            79.29       459.3   \n",
              "561         13.01          29.15            83.99       518.1   \n",
              "562         13.34          27.87            88.83       547.4   \n",
              "\n",
              "     smoothness_worst  compactness_worst  concavity_worst  \\\n",
              "0             0.14050            0.30460          0.28060   \n",
              "1             0.14670            0.17650          0.13000   \n",
              "2             0.09926            0.23170          0.33440   \n",
              "3             0.22260            0.52090          0.46460   \n",
              "4             0.13570            0.42560          0.68330   \n",
              "..                ...                ...              ...   \n",
              "558           0.11930            0.23360          0.26870   \n",
              "559           0.13950            0.30550          0.29920   \n",
              "560           0.11180            0.09708          0.07529   \n",
              "561           0.16990            0.21960          0.31200   \n",
              "562           0.12080            0.22790          0.16200   \n",
              "\n",
              "     concave points_worst  symmetry_worst  fractal_dimension_worst  \n",
              "0                 0.11380          0.3397                  0.08365  \n",
              "1                 0.05334          0.2533                  0.08468  \n",
              "2                 0.10170          0.1999                  0.07127  \n",
              "3                 0.20130          0.4432                  0.10860  \n",
              "4                 0.26250          0.2641                  0.07427  \n",
              "..                    ...             ...                      ...  \n",
              "558               0.17890          0.2551                  0.06589  \n",
              "559               0.13120          0.3480                  0.07619  \n",
              "560               0.06203          0.3267                  0.06994  \n",
              "561               0.08278          0.2829                  0.08832  \n",
              "562               0.05690          0.2406                  0.07729  \n",
              "\n",
              "[563 rows x 33 columns]>"
            ]
          },
          "execution_count": 19,
          "metadata": {},
          "output_type": "execute_result"
        }
      ],
      "source": [
        "dfPM2.head"
      ]
    },
    {
      "cell_type": "code",
      "execution_count": 20,
      "metadata": {
        "colab": {
          "base_uri": "https://localhost:8080/"
        },
        "id": "Nr6JH3ruvIbI",
        "outputId": "26dc182f-1be0-4080-c338-fa4fee1597f6"
      },
      "outputs": [
        {
          "name": "stdout",
          "output_type": "stream",
          "text": [
            "0 36.772486772486765\n",
            "0 63.22751322751323\n",
            "0 64.02116402116403\n",
            "0 66.66666666666667\n",
            "0 67.19576719576719\n",
            "0 88.88888888888889\n",
            "0 91.26984126984127\n",
            "0 91.53439153439153\n",
            "1 92.5925925925926\n",
            "3 93.12169312169313\n",
            "157 93.3862433862434\n",
            "307 93.65079365079364\n",
            "595 93.91534391534391\n",
            "for iterations = 1000\n",
            "training accuracy: 92.32804232804233%\n",
            "test accuracy: 91.35135135135135%\n",
            " \n"
          ]
        }
      ],
      "source": [
        "PM2 = Perceptron()\n",
        "\n",
        "Iteration = [1000]\n",
        "LR = [0.125, 0.25, 0.45, 0.75, 0.8, 0.9, 0.95, 0.99, 1]\n",
        "L=[1]\n",
        "\n",
        "for iters in Iteration:\n",
        "  w_trained = PM2.train_model(X_train, Y_train, 0.75, iters)\n",
        "  y_predict_train = PM2.predict(X_train)\n",
        "  y_predict_test = PM2.predict(X_test)\n",
        "  print(f\"for iterations = {iters}\")\n",
        "  print(f\"training accuracy: {100 - np.mean(np.abs(y_predict_train - Y_train)) * 100}%\")\n",
        "  print(f\"test accuracy: {100 - np.mean(np.abs(y_predict_test - Y_test)) * 100}%\")\n",
        "  print(\" \")"
      ]
    },
    {
      "cell_type": "code",
      "execution_count": 21,
      "metadata": {
        "colab": {
          "base_uri": "https://localhost:8080/"
        },
        "id": "lWqlt8bifmni",
        "outputId": "8956b9ba-7c5b-4249-db4d-fb5b9b77dc5c"
      },
      "outputs": [
        {
          "name": "stdout",
          "output_type": "stream",
          "text": [
            "Confusion Matrix:\n",
            "[[ 58   2]\n",
            " [ 14 111]]\n",
            " \n",
            "For PM2:\n",
            " \n",
            "Accuracy: 0.9135135135135135\n",
            "Precision: 0.9666666666666667\n",
            "Recall: 0.8055555555555556\n"
          ]
        }
      ],
      "source": [
        "TP=0\n",
        "FP=0\n",
        "TN=0\n",
        "FN=0\n",
        "\n",
        "for i in range(len(y_predict_test)):\n",
        "  if y_predict_test[i]==1 and Y_test[i]==1:\n",
        "    TP+=1\n",
        "  elif y_predict_test[i]==1 and Y_test[i]==0:\n",
        "    FP+=1\n",
        "  elif y_predict_test[i]==0 and Y_test[i]==1:\n",
        "    FN+=1\n",
        "  elif y_predict_test[i]==0 and Y_test[i]==0:\n",
        "    TN+=1\n",
        "print(\"Confusion Matrix:\")\n",
        "print(np.array([[TP,FP],[FN,TN]]))\n",
        "print(\" \")\n",
        "print(\"For PM2:\")\n",
        "print(\" \")\n",
        "print(\"Accuracy:\", (TP + TN)/(TP + TN + FP + FN))\n",
        "print(\"Precision:\", TP/(TP + FP))\n",
        "print(\"Recall:\", TP/(TP + FN))"
      ]
    },
    {
      "cell_type": "markdown",
      "metadata": {
        "id": "Vw1WeviUAViG"
      },
      "source": [
        "**PM3**"
      ]
    },
    {
      "cell_type": "code",
      "execution_count": 22,
      "metadata": {
        "colab": {
          "base_uri": "https://localhost:8080/"
        },
        "id": "VX5dALztJZ25",
        "outputId": "d8205c47-7c77-4782-a977-9170af08bb6e"
      },
      "outputs": [
        {
          "data": {
            "text/plain": [
              "<bound method NDFrame.head of            id diagnosis  radius_mean  texture_mean  perimeter_mean  area_mean  \\\n",
              "0      842302         M     1.102422     -2.071512        1.268389   0.983510   \n",
              "1      842517         M     1.836635     -0.353322        1.684639   1.907030   \n",
              "2    84300903         M     1.586206      0.455786        1.565122   1.557513   \n",
              "3    84348301         M    -0.767260      0.253509       -0.595257  -0.763792   \n",
              "4    84358402         M     1.756953     -1.150804        1.775308   1.824624   \n",
              "..        ...       ...          ...           ...             ...        ...   \n",
              "564    926424         M     2.118368      0.720838        2.059677   2.341795   \n",
              "565    926682         M     1.711420      2.083301        1.614577   1.722326   \n",
              "566    926954         M     0.706858      2.043775        0.670803   0.577445   \n",
              "567    927241         M     1.845172      2.334403        1.981372   1.733693   \n",
              "568     92751         B    -1.808817      1.220718       -1.817631  -1.346604   \n",
              "\n",
              "     smoothness_mean  compactness_mean  concavity_mean  concave points_mean  \\\n",
              "0           1.567087          3.280628        2.650837             2.530249   \n",
              "1          -0.826235         -0.486643       -0.025417             0.547662   \n",
              "2           0.941382          1.052000        1.361666             2.035440   \n",
              "3           3.280667          3.399917        1.913989             1.450431   \n",
              "4           0.280125          0.538866        1.369198             1.427237   \n",
              "..               ...               ...             ...                  ...   \n",
              "564         1.040926          0.218868        1.945370             2.318924   \n",
              "565         0.102368         -0.017817        0.691347             1.262558   \n",
              "566        -0.839745         -0.038646        0.045004             0.105684   \n",
              "567         1.524426          3.269267        3.294795             2.656528   \n",
              "568        -3.109349         -1.149741       -1.116254            -1.260710   \n",
              "\n",
              "     ...  radius_worst  texture_worst  perimeter_worst  area_worst  \\\n",
              "0    ...      1.885031      -1.358098         2.301575    1.998658   \n",
              "1    ...      1.804340      -0.368879         1.533776    1.887973   \n",
              "2    ...      1.510541      -0.023953         1.346291    1.454016   \n",
              "3    ...     -0.281217       0.133866        -0.249720   -0.551147   \n",
              "4    ...      1.297434      -1.465481         1.337363    1.218589   \n",
              "..   ...           ...            ...              ...         ...   \n",
              "564  ...      1.899514       0.117596         1.751022    2.012713   \n",
              "565  ...      1.535369       2.045599         1.420690    1.492668   \n",
              "566  ...      0.560868       1.373645         0.578492    0.426222   \n",
              "567  ...      1.959515       2.235958         2.301575    1.650790   \n",
              "568  ...     -1.409652       0.763518        -1.431475   -1.076640   \n",
              "\n",
              "     smoothness_worst  compactness_worst  concavity_worst  \\\n",
              "0            1.306537           2.614365         2.107374   \n",
              "1           -0.375282          -0.430066        -0.147968   \n",
              "2            0.526944           1.081980         0.853340   \n",
              "3            3.391291           3.889975         1.987485   \n",
              "4            0.220362          -0.313119         0.611645   \n",
              "..                ...                ...              ...   \n",
              "564          0.378033          -0.273077         0.662958   \n",
              "565         -0.690623          -0.394473         0.235195   \n",
              "566         -0.808876           0.350427         0.325352   \n",
              "567          1.429169           3.901415         3.195002   \n",
              "568         -1.857384          -1.206491        -1.306570   \n",
              "\n",
              "     concave points_worst  symmetry_worst  fractal_dimension_worst  \n",
              "0                2.294058        2.748204                 1.935312  \n",
              "1                1.086129       -0.243675                 0.280943  \n",
              "2                1.953282        1.151242                 0.201214  \n",
              "3                2.173873        6.040726                 4.930672  \n",
              "4                0.728618       -0.867590                -0.396751  \n",
              "..                    ...             ...                      ...  \n",
              "564              1.627719       -1.358963                -0.708467  \n",
              "565              0.733182       -0.531387                -0.973122  \n",
              "566              0.413705       -1.103578                -0.318129  \n",
              "567              2.287972        1.917396                 2.217684  \n",
              "568             -1.743529       -0.048096                -0.750546  \n",
              "\n",
              "[569 rows x 32 columns]>"
            ]
          },
          "execution_count": 22,
          "metadata": {},
          "output_type": "execute_result"
        }
      ],
      "source": [
        "df2=df\n",
        "for i in df.columns:\n",
        "  if df2[i].isnull().sum()==0:\n",
        "    continue\n",
        "  else:\n",
        "    n=df.shape[0]-df2[i].isnull().sum()\n",
        "    meanval=df[i].sum()/n\n",
        "    df2[i].fillna(value=meanval, inplace=True)\n",
        "\n",
        "\n",
        "for i in df.columns:\n",
        "  if i=='id' or i=='diagnosis':\n",
        "    continue\n",
        "  else:\n",
        "    df2[i] = (df2[i] - df2[i].mean())/df2[i].std()\n",
        "df2.head"
      ]
    },
    {
      "cell_type": "code",
      "execution_count": 23,
      "metadata": {
        "id": "28ypMmf1879A"
      },
      "outputs": [],
      "source": [
        "data=df2.values.tolist()\n",
        "data=np.array(data)\n",
        "# print(data)\n",
        "X=data[:,2:]\n",
        "Y=data[:,1:2]\n",
        "for i in Y:\n",
        "  if i[0]=='M': # Malignant=1; Benign = 0\n",
        "    i[0]=1\n",
        "  else:\n",
        "    i[0]=0"
      ]
    },
    {
      "cell_type": "code",
      "execution_count": 24,
      "metadata": {
        "colab": {
          "base_uri": "https://localhost:8080/"
        },
        "id": "WPwrv64IAmTl",
        "outputId": "9e212764-e5fa-4f2b-8b77-ba4c8abbdd23"
      },
      "outputs": [
        {
          "name": "stdout",
          "output_type": "stream",
          "text": [
            "(569, 30) (569, 1)\n",
            "float64 float64\n"
          ]
        }
      ],
      "source": [
        "X = X.astype('float64')\n",
        "Y = Y.astype('float64')\n",
        "print(X.shape, Y.shape)\n",
        "print(X.dtype,Y.dtype)"
      ]
    },
    {
      "cell_type": "code",
      "execution_count": 25,
      "metadata": {
        "colab": {
          "base_uri": "https://localhost:8080/"
        },
        "id": "vh8piUQeAne5",
        "outputId": "d21452ab-fda9-4801-80de-cef6d51dee9c"
      },
      "outputs": [
        {
          "name": "stdout",
          "output_type": "stream",
          "text": [
            "(382, 30) (187, 30) (382, 1) (187, 1)\n"
          ]
        }
      ],
      "source": [
        "split_ratio=0.67\n",
        "split_rows=int(np.floor(0.67*X.shape[0]))\n",
        "X_train=X[:split_rows+1]\n",
        "X_test=X[split_rows+1:]\n",
        "Y_train=Y[:split_rows+1]\n",
        "Y_test=Y[split_rows+1:]\n",
        "print(X_train.shape,X_test.shape,Y_train.shape,Y_test.shape)"
      ]
    },
    {
      "cell_type": "code",
      "execution_count": 26,
      "metadata": {
        "colab": {
          "base_uri": "https://localhost:8080/"
        },
        "id": "fdhkYJyMAqQ5",
        "outputId": "662fb2c2-5f3e-4bee-d892-0f9e45f4bf5e"
      },
      "outputs": [
        {
          "name": "stdout",
          "output_type": "stream",
          "text": [
            "0 44.24083769633508\n",
            "0 82.72251308900523\n",
            "0 88.48167539267016\n",
            "0 90.57591623036649\n",
            "0 91.09947643979058\n",
            "0 92.14659685863874\n",
            "0 94.76439790575917\n",
            "0 95.28795811518324\n",
            "0 96.8586387434555\n",
            "0 97.64397905759162\n",
            "3 97.90575916230367\n",
            "5 98.16753926701571\n",
            "12 98.42931937172774\n",
            "14 98.69109947643979\n",
            "33 98.95287958115183\n",
            "38 99.21465968586388\n",
            "334 99.47643979057591\n",
            "870 99.73821989528795\n",
            "2157 100.0\n",
            "for iterations = 2158\n",
            "training accuracy: 100.0%\n",
            "test accuracy: 92.51336898395722%\n",
            " \n"
          ]
        }
      ],
      "source": [
        "PM3 = Perceptron()\n",
        "\n",
        "Iteration = [2158] #since it separated at 2157 iterations.\n",
        "LR = [0.125, 0.25, 0.45, 0.75, 0.8, 0.9, 0.95, 0.99, 1]\n",
        "L=[1]\n",
        "\n",
        "for iters in Iteration:\n",
        "  w_trained = PM3.train_model(X_train, Y_train, 0.75, iters)\n",
        "  y_predict_train = PM3.predict(X_train)\n",
        "  y_predict_test = PM3.predict(X_test)\n",
        "  print(f\"for iterations = {iters}\")\n",
        "  print(f\"training accuracy: {100 - np.mean(np.abs(y_predict_train - Y_train)) * 100}%\")\n",
        "  print(f\"test accuracy: {100 - np.mean(np.abs(y_predict_test - Y_test)) * 100}%\")\n",
        "  print(\" \")"
      ]
    },
    {
      "cell_type": "code",
      "execution_count": 27,
      "metadata": {
        "colab": {
          "base_uri": "https://localhost:8080/"
        },
        "id": "-HxJnD4Wizx9",
        "outputId": "b581da83-2081-4014-da87-906b3ca3b745"
      },
      "outputs": [
        {
          "name": "stdout",
          "output_type": "stream",
          "text": [
            "Confusion Matrix:\n",
            "[[ 40  11]\n",
            " [  3 133]]\n",
            " \n",
            "For PM3:\n",
            " \n",
            "Accuracy: 0.9251336898395722\n",
            "Precision: 0.7843137254901961\n",
            "Recall: 0.9302325581395349\n"
          ]
        }
      ],
      "source": [
        "TP=0\n",
        "FP=0\n",
        "TN=0\n",
        "FN=0\n",
        "\n",
        "for i in range(len(y_predict_test)):\n",
        "  if y_predict_test[i]==1 and Y_test[i]==1:\n",
        "    TP+=1\n",
        "  elif y_predict_test[i]==1 and Y_test[i]==0:\n",
        "    FP+=1\n",
        "  elif y_predict_test[i]==0 and Y_test[i]==1:\n",
        "    FN+=1\n",
        "  elif y_predict_test[i]==0 and Y_test[i]==0:\n",
        "    TN+=1\n",
        "print(\"Confusion Matrix:\")\n",
        "print(np.array([[TP,FP],[FN,TN]]))\n",
        "print(\" \")\n",
        "print(\"For PM3:\")\n",
        "print(\" \")\n",
        "print(\"Accuracy:\", (TP + TN)/(TP + TN + FP + FN))\n",
        "print(\"Precision:\", TP/(TP + FP))\n",
        "print(\"Recall:\", TP/(TP + FN))"
      ]
    },
    {
      "cell_type": "markdown",
      "metadata": {
        "id": "GOOxdQqVLxls"
      },
      "source": [
        "**PM4**"
      ]
    },
    {
      "cell_type": "code",
      "execution_count": 28,
      "metadata": {
        "colab": {
          "base_uri": "https://localhost:8080/"
        },
        "id": "JtmOvydI28Ia",
        "outputId": "a9f369ea-10d7-408e-9119-61ffe63a0005"
      },
      "outputs": [
        {
          "data": {
            "text/plain": [
              "<bound method NDFrame.head of            id diagnosis  radius_mean  texture_mean  perimeter_mean  area_mean  \\\n",
              "0      842302         M        17.99         10.38          122.80     1001.0   \n",
              "1      842517         M        20.57         17.77          132.90     1326.0   \n",
              "2    84300903         M        19.69         21.25          130.00     1203.0   \n",
              "3    84348301         M        11.42         20.38           77.58      386.1   \n",
              "4    84358402         M        20.29         14.34          135.10     1297.0   \n",
              "..        ...       ...          ...           ...             ...        ...   \n",
              "564    926424         M        21.56         22.39          142.00     1479.0   \n",
              "565    926682         M        20.13         28.25          131.20     1261.0   \n",
              "566    926954         M        16.60         28.08          108.30      858.1   \n",
              "567    927241         M        20.60         29.33          140.10     1265.0   \n",
              "568     92751         B         7.76         24.54           47.92      181.0   \n",
              "\n",
              "     smoothness_mean  compactness_mean  concavity_mean  concave points_mean  \\\n",
              "0            0.11840           0.27760         0.30010              0.14710   \n",
              "1            0.08474           0.07864         0.08690              0.07017   \n",
              "2            0.10960           0.15990         0.19740              0.12790   \n",
              "3            0.14250           0.28390         0.24140              0.10520   \n",
              "4            0.10030           0.13280         0.19800              0.10430   \n",
              "..               ...               ...             ...                  ...   \n",
              "564          0.11100           0.11590         0.24390              0.13890   \n",
              "565          0.09780           0.10340         0.14400              0.09791   \n",
              "566          0.08455           0.10230         0.09251              0.05302   \n",
              "567          0.11780           0.27700         0.35140              0.15200   \n",
              "568          0.05263           0.04362         0.00000              0.00000   \n",
              "\n",
              "     ...  radius_worst  texture_worst  perimeter_worst  area_worst  \\\n",
              "0    ...        25.380          17.33           184.60      2019.0   \n",
              "1    ...        24.990          23.41           158.80      1956.0   \n",
              "2    ...        23.570          25.53           152.50      1709.0   \n",
              "3    ...        14.910          26.50            98.87       567.7   \n",
              "4    ...        22.540          16.67           152.20      1575.0   \n",
              "..   ...           ...            ...              ...         ...   \n",
              "564  ...        25.450          26.40           166.10      2027.0   \n",
              "565  ...        23.690          38.25           155.00      1731.0   \n",
              "566  ...        18.980          34.12           126.70      1124.0   \n",
              "567  ...        25.740          39.42           184.60      1821.0   \n",
              "568  ...         9.456          30.37            59.16       268.6   \n",
              "\n",
              "     smoothness_worst  compactness_worst  concavity_worst  \\\n",
              "0             0.16220            0.66560           0.7119   \n",
              "1             0.12380            0.18660           0.2416   \n",
              "2             0.14440            0.42450           0.4504   \n",
              "3             0.20980            0.86630           0.6869   \n",
              "4             0.13740            0.20500           0.4000   \n",
              "..                ...                ...              ...   \n",
              "564           0.14100            0.21130           0.4107   \n",
              "565           0.11660            0.19220           0.3215   \n",
              "566           0.11390            0.30940           0.3403   \n",
              "567           0.16500            0.86810           0.9387   \n",
              "568           0.08996            0.06444           0.0000   \n",
              "\n",
              "     concave points_worst  symmetry_worst  fractal_dimension_worst  \n",
              "0                  0.2654          0.4601                  0.11890  \n",
              "1                  0.1860          0.2750                  0.08902  \n",
              "2                  0.2430          0.3613                  0.08758  \n",
              "3                  0.2575          0.6638                  0.17300  \n",
              "4                  0.1625          0.2364                  0.07678  \n",
              "..                    ...             ...                      ...  \n",
              "564                0.2216          0.2060                  0.07115  \n",
              "565                0.1628          0.2572                  0.06637  \n",
              "566                0.1418          0.2218                  0.07820  \n",
              "567                0.2650          0.4087                  0.12400  \n",
              "568                0.0000          0.2871                  0.07039  \n",
              "\n",
              "[569 rows x 32 columns]>"
            ]
          },
          "execution_count": 28,
          "metadata": {},
          "output_type": "execute_result"
        }
      ],
      "source": [
        "df=pd.read_csv('ML-Om1.csv')\n",
        "# print(df.to_string())\n",
        "df.head"
      ]
    },
    {
      "cell_type": "code",
      "execution_count": 29,
      "metadata": {
        "colab": {
          "base_uri": "https://localhost:8080/"
        },
        "id": "0EHhVzMDA21J",
        "outputId": "2d5fa4be-1a9d-4ced-bc30-d578d8cf64f6"
      },
      "outputs": [
        {
          "name": "stdout",
          "output_type": "stream",
          "text": [
            "(563, 30) (563,)\n"
          ]
        }
      ],
      "source": [
        "dfdf=df.dropna()\n",
        "dfdf=dfdf.sample(frac=1, axis=1)\n",
        "dfdf=dfdf.drop(['id'],axis=1)\n",
        "\n",
        "Ydf=dfdf['diagnosis']\n",
        "Xdf=dfdf.drop(['diagnosis'],axis=1)\n",
        "print(Xdf.shape, Ydf.shape)"
      ]
    },
    {
      "cell_type": "code",
      "execution_count": 30,
      "metadata": {
        "colab": {
          "base_uri": "https://localhost:8080/"
        },
        "id": "ICebv2e6MvyR",
        "outputId": "bca16e09-31db-40fc-ca17-c7ef3976389b"
      },
      "outputs": [
        {
          "name": "stdout",
          "output_type": "stream",
          "text": [
            "(563, 30) (563, 1)\n"
          ]
        }
      ],
      "source": [
        "X=np.array(Xdf)\n",
        "Y=np.array(Ydf).reshape(X.shape[0],1)\n",
        "print(X.shape,Y.shape)"
      ]
    },
    {
      "cell_type": "code",
      "execution_count": 31,
      "metadata": {
        "colab": {
          "base_uri": "https://localhost:8080/"
        },
        "id": "XpN9zUFUOTOh",
        "outputId": "9a36aeb1-f290-4202-f539-7a451c3b06ce"
      },
      "outputs": [
        {
          "name": "stdout",
          "output_type": "stream",
          "text": [
            "(563, 30) (563, 1)\n",
            "float64 float64\n",
            "(378, 30) (185, 30) (378, 1) (185, 1)\n"
          ]
        }
      ],
      "source": [
        "for i in Y:\n",
        "  if i[0]=='M': # Malignant=1; Benign = 0\n",
        "    i[0]=1\n",
        "  else:\n",
        "    i[0]=0\n",
        "\n",
        "X = X.astype('float64')\n",
        "Y = Y.astype('float64')\n",
        "print(X.shape, Y.shape)\n",
        "print(X.dtype,Y.dtype)\n",
        "\n",
        "split_ratio=0.67\n",
        "split_rows=int(np.floor(0.67*X.shape[0]))\n",
        "X_train=X[:split_rows+1]\n",
        "X_test=X[split_rows+1:]\n",
        "Y_train=Y[:split_rows+1]\n",
        "Y_test=Y[split_rows+1:]\n",
        "print(X_train.shape,X_test.shape,Y_train.shape,Y_test.shape)"
      ]
    },
    {
      "cell_type": "code",
      "execution_count": 32,
      "metadata": {
        "colab": {
          "base_uri": "https://localhost:8080/"
        },
        "id": "_ou0A3CPOnQ7",
        "outputId": "fdb2c1d2-232a-498a-bc19-f617543cca06"
      },
      "outputs": [
        {
          "name": "stdout",
          "output_type": "stream",
          "text": [
            "0 44.44444444444444\n",
            "0 55.55555555555556\n",
            "0 68.25396825396825\n",
            "0 91.26984126984127\n",
            "1 91.53439153439153\n",
            "6 91.7989417989418\n",
            "10 92.06349206349206\n",
            "23 92.32804232804233\n",
            "90 92.5925925925926\n",
            "387 92.85714285714286\n",
            "400 93.12169312169313\n",
            "for iterations = 1000\n",
            "training accuracy: 92.5925925925926%\n",
            "test accuracy: 93.51351351351352%\n",
            " \n"
          ]
        }
      ],
      "source": [
        "PM4 = Perceptron()\n",
        "\n",
        "Iteration = [1000]\n",
        "LR = [0.125, 0.25, 0.45, 0.75, 0.8, 0.9, 0.95, 0.99, 1]\n",
        "L=[1]\n",
        "\n",
        "for iters in Iteration:\n",
        "  w_trained = PM4.train_model(X_train, Y_train, 0.75, iters)\n",
        "  y_predict_train = PM4.predict(X_train)\n",
        "  y_predict_test = PM4.predict(X_test)\n",
        "  print(f\"for iterations = {iters}\")\n",
        "  print(f\"training accuracy: {100 - np.mean(np.abs(y_predict_train - Y_train)) * 100}%\")\n",
        "  print(f\"test accuracy: {100 - np.mean(np.abs(y_predict_test - Y_test)) * 100}%\")\n",
        "  print(\" \")"
      ]
    },
    {
      "cell_type": "code",
      "execution_count": 33,
      "metadata": {
        "colab": {
          "base_uri": "https://localhost:8080/"
        },
        "id": "OjL24gj6PG_p",
        "outputId": "7ac193cf-6bd7-4b04-dc6e-1ef96cb68cf6"
      },
      "outputs": [
        {
          "name": "stdout",
          "output_type": "stream",
          "text": [
            "Confusion Matrix:\n",
            "[[ 38   7]\n",
            " [  5 135]]\n",
            " \n",
            "For PM4:\n",
            " \n",
            "Accuracy: 0.9351351351351351\n",
            "Precision: 0.8444444444444444\n",
            "Recall: 0.8837209302325582\n"
          ]
        }
      ],
      "source": [
        "TP=0\n",
        "FP=0\n",
        "TN=0\n",
        "FN=0\n",
        "\n",
        "for i in range(len(y_predict_test)):\n",
        "  if y_predict_test[i]==1 and Y_test[i]==1:\n",
        "    TP+=1\n",
        "  elif y_predict_test[i]==1 and Y_test[i]==0:\n",
        "    FP+=1\n",
        "  elif y_predict_test[i]==0 and Y_test[i]==1:\n",
        "    FN+=1\n",
        "  elif y_predict_test[i]==0 and Y_test[i]==0:\n",
        "    TN+=1\n",
        "print(\"Confusion Matrix:\")\n",
        "print(np.array([[TP,FP],[FN,TN]]))\n",
        "print(\" \")\n",
        "print(\"For PM4:\")\n",
        "print(\" \")\n",
        "print(\"Accuracy:\", (TP + TN)/(TP + TN + FP + FN))\n",
        "print(\"Precision:\", TP/(TP + FP))\n",
        "print(\"Recall:\", TP/(TP + FN))"
      ]
    }
  ],
  "metadata": {
    "colab": {
      "provenance": []
    },
    "kernelspec": {
      "display_name": "Python 3",
      "name": "python3"
    },
    "language_info": {
      "name": "python"
    }
  },
  "nbformat": 4,
  "nbformat_minor": 0
}
